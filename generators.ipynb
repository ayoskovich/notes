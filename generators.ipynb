{
 "cells": [
  {
   "cell_type": "markdown",
   "metadata": {},
   "source": [
    "## Generators\n",
    "\n",
    "Generator functions allow for us to define functions that behave like iterators. I can use this thing in a for loop."
   ]
  },
  {
   "cell_type": "code",
   "execution_count": 1,
   "metadata": {},
   "outputs": [],
   "source": [
    "import time\n",
    "\n",
    "def timeit(func):\n",
    "    def wrapper(*args, **kwargs):\n",
    "        t1 = time.time()\n",
    "        rv = func(*args, **kwargs)\n",
    "        t2 = time.time()\n",
    "        print('Total time for {}: {}'.format(func.__name__, t2 - t1))\n",
    "        \n",
    "        return rv\n",
    "    return wrapper\n",
    "    "
   ]
  },
  {
   "cell_type": "code",
   "execution_count": 2,
   "metadata": {},
   "outputs": [
    {
     "name": "stdout",
     "output_type": "stream",
     "text": [
      "Total time for firstn: 2.691997766494751\n",
      "Total time for gimmen: 0.0\n"
     ]
    }
   ],
   "source": [
    "@timeit\n",
    "def firstn(n):\n",
    "    num = 0\n",
    "    myList = []\n",
    "    while num < n:\n",
    "        myList.append(num)\n",
    "        num += 1\n",
    "        \n",
    "    return myList\n",
    "\n",
    "@timeit\n",
    "def gimmen(n):\n",
    "    num = 0\n",
    "    while num < n:\n",
    "        yield num\n",
    "        num += 1\n",
    "\n",
    "NREPS = 10000000\n",
    "x = sum(firstn(NREPS))\n",
    "y = sum(gimmen(NREPS))"
   ]
  },
  {
   "cell_type": "code",
   "execution_count": null,
   "metadata": {},
   "outputs": [],
   "source": []
  }
 ],
 "metadata": {
  "kernelspec": {
   "display_name": "Python 3",
   "language": "python",
   "name": "python3"
  },
  "language_info": {
   "codemirror_mode": {
    "name": "ipython",
    "version": 3
   },
   "file_extension": ".py",
   "mimetype": "text/x-python",
   "name": "python",
   "nbconvert_exporter": "python",
   "pygments_lexer": "ipython3",
   "version": "3.7.6"
  }
 },
 "nbformat": 4,
 "nbformat_minor": 4
}
