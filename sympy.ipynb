{
 "cells": [
  {
   "cell_type": "markdown",
   "metadata": {},
   "source": [
    "## Notes on `sympy`"
   ]
  },
  {
   "cell_type": "code",
   "execution_count": 1,
   "metadata": {},
   "outputs": [],
   "source": [
    "import sympy"
   ]
  },
  {
   "cell_type": "code",
   "execution_count": 2,
   "metadata": {
    "collapsed": true,
    "jupyter": {
     "outputs_hidden": true
    }
   },
   "outputs": [
    {
     "name": "stdout",
     "output_type": "stream",
     "text": [
      "Help on package sympy:\n",
      "\n",
      "NAME\n",
      "    sympy\n",
      "\n",
      "DESCRIPTION\n",
      "    SymPy is a Python library for symbolic mathematics. It aims to become a\n",
      "    full-featured computer algebra system (CAS) while keeping the code as simple\n",
      "    as possible in order to be comprehensible and easily extensible.  SymPy is\n",
      "    written entirely in Python. It depends on mpmath, and other external libraries\n",
      "    may be optionally for things like plotting support.\n",
      "    \n",
      "    See the webpage for more information and documentation:\n",
      "    \n",
      "        https://sympy.org\n",
      "\n",
      "PACKAGE CONTENTS\n",
      "    abc\n",
      "    algebras (package)\n",
      "    assumptions (package)\n",
      "    benchmarks (package)\n",
      "    calculus (package)\n",
      "    categories (package)\n",
      "    codegen (package)\n",
      "    combinatorics (package)\n",
      "    concrete (package)\n",
      "    conftest\n",
      "    core (package)\n",
      "    crypto (package)\n",
      "    deprecated (package)\n",
      "    diffgeom (package)\n",
      "    discrete (package)\n",
      "    external (package)\n",
      "    functions (package)\n",
      "    galgebra\n",
      "    geometry (package)\n",
      "    holonomic (package)\n",
      "    integrals (package)\n",
      "    interactive (package)\n",
      "    liealgebras (package)\n",
      "    logic (package)\n",
      "    matrices (package)\n",
      "    multipledispatch (package)\n",
      "    ntheory (package)\n",
      "    parsing (package)\n",
      "    physics (package)\n",
      "    plotting (package)\n",
      "    polys (package)\n",
      "    printing (package)\n",
      "    release\n",
      "    sandbox (package)\n",
      "    series (package)\n",
      "    sets (package)\n",
      "    simplify (package)\n",
      "    solvers (package)\n",
      "    stats (package)\n",
      "    strategies (package)\n",
      "    tensor (package)\n",
      "    this\n",
      "    unify (package)\n",
      "    utilities (package)\n",
      "    vector (package)\n",
      "\n",
      "SUBMODULES\n",
      "    add\n",
      "    array\n",
      "    basic\n",
      "    bivariate\n",
      "    boolalg\n",
      "    cache\n",
      "    class_registry\n",
      "    common\n",
      "    compatibility\n",
      "    conditionset\n",
      "    containers\n",
      "    contains\n",
      "    convolutions\n",
      "    coreerrors\n",
      "    cse_main\n",
      "    cse_opts\n",
      "    curve\n",
      "    decorators\n",
      "    dense\n",
      "    deutils\n",
      "    ellipse\n",
      "    entity\n",
      "    epathtools\n",
      "    evalf\n",
      "    exceptions\n",
      "    expr\n",
      "    expr_with_intlimits\n",
      "    expr_with_limits\n",
      "    expressions\n",
      "    exprtools\n",
      "    factor_\n",
      "    facts\n",
      "    fancysets\n",
      "    function\n",
      "    generate\n",
      "    gosper\n",
      "    immutable\n",
      "    index_methods\n",
      "    indexed\n",
      "    inequalities\n",
      "    inference\n",
      "    line\n",
      "    manualintegrate\n",
      "    meijerint\n",
      "    mod\n",
      "    mul\n",
      "    multidimensional\n",
      "    multinomial\n",
      "    numbers\n",
      "    ode\n",
      "    operations\n",
      "    ordinals\n",
      "    parabola\n",
      "    partitions_\n",
      "    pde\n",
      "    plane\n",
      "    point\n",
      "    polygon\n",
      "    polysys\n",
      "    power\n",
      "    powerset\n",
      "    primetest\n",
      "    products\n",
      "    recurr\n",
      "    relational\n",
      "    residue_ntheory\n",
      "    rules\n",
      "    singleton\n",
      "    singularityfunctions\n",
      "    sparse\n",
      "    sparsetools\n",
      "    summations\n",
      "    symbol\n",
      "    transforms\n",
      "    traversaltools\n",
      "    trigonometry\n",
      "    util\n",
      "\n",
      "DATA\n",
      "    C = <sympy.deprecated.class_registry.ClassRegistry object>\n",
      "    CC = CC\n",
      "    Catalan = Catalan\n",
      "    Complexes = S.Complexes\n",
      "    E = E\n",
      "    EX = EX\n",
      "    EmptySequence = EmptySequence\n",
      "    EmptySet = EmptySet\n",
      "    EulerGamma = EulerGamma\n",
      "    FU = {'L': <function L>, 'TR0': <function TR0>, 'TR1': <function TR1>,...\n",
      "    GoldenRatio = GoldenRatio\n",
      "    I = I\n",
      "    Id = Lambda(_x, _x)\n",
      "    Integers = Integers\n",
      "    Naturals = Naturals\n",
      "    Naturals0 = Naturals0\n",
      "    Q = <sympy.assumptions.ask.AssumptionKeys object>\n",
      "    QQ = QQ\n",
      "    RR = RR\n",
      "    Rationals = Rationals\n",
      "    Reals = Reals\n",
      "    S = S\n",
      "    SYMPY_DEBUG = False\n",
      "    TribonacciConstant = TribonacciConstant\n",
      "    UniversalSet = UniversalSet\n",
      "    ZZ = ZZ\n",
      "    false = False\n",
      "    grevlex = ReversedGradedLexOrder()\n",
      "    grlex = GradedLexOrder()\n",
      "    igrevlex = InverseOrder()\n",
      "    igrlex = InverseOrder()\n",
      "    ilex = InverseOrder()\n",
      "    lex = LexOrder()\n",
      "    nan = nan\n",
      "    oo = oo\n",
      "    ord0 = ord0\n",
      "    pi = pi\n",
      "    plot_backends = {'default': <class 'sympy.plotting.plot.DefaultBackend...\n",
      "    sieve = <prime sieve (6): 2, 3, 5, ... 11, 13\n",
      "    totient si..., ... 2, 4\n",
      "    ...\n",
      "    true = True\n",
      "    zoo = zoo\n",
      "\n",
      "VERSION\n",
      "    1.5.1\n",
      "\n",
      "FILE\n",
      "    c:\\users\\anthony\\anaconda3\\lib\\site-packages\\sympy\\__init__.py\n",
      "\n",
      "\n"
     ]
    }
   ],
   "source": [
    "help(sympy)"
   ]
  },
  {
   "cell_type": "code",
   "execution_count": 3,
   "metadata": {},
   "outputs": [
    {
     "data": {
      "text/plain": [
       "'1.5.1'"
      ]
     },
     "execution_count": 3,
     "metadata": {},
     "output_type": "execute_result"
    }
   ],
   "source": [
    "sympy.__version__"
   ]
  },
  {
   "cell_type": "code",
   "execution_count": 7,
   "metadata": {},
   "outputs": [
    {
     "data": {
      "text/latex": [
       "$\\displaystyle 2 \\sqrt{2}$"
      ],
      "text/plain": [
       "2*sqrt(2)"
      ]
     },
     "execution_count": 7,
     "metadata": {},
     "output_type": "execute_result"
    }
   ],
   "source": [
    "sympy.sqrt(8)"
   ]
  },
  {
   "cell_type": "code",
   "execution_count": 8,
   "metadata": {},
   "outputs": [],
   "source": [
    "from sympy import symbols"
   ]
  },
  {
   "cell_type": "code",
   "execution_count": 9,
   "metadata": {},
   "outputs": [],
   "source": [
    "x, y = symbols('x y')"
   ]
  },
  {
   "cell_type": "code",
   "execution_count": 17,
   "metadata": {},
   "outputs": [
    {
     "data": {
      "text/latex": [
       "$\\displaystyle x + y$"
      ],
      "text/plain": [
       "x + y"
      ]
     },
     "execution_count": 17,
     "metadata": {},
     "output_type": "execute_result"
    }
   ],
   "source": [
    "expr = x + y\n",
    "expr"
   ]
  },
  {
   "cell_type": "markdown",
   "metadata": {},
   "source": [
    "### Factoring and expanding expressions"
   ]
  },
  {
   "cell_type": "code",
   "execution_count": 27,
   "metadata": {},
   "outputs": [],
   "source": [
    "from sympy import *"
   ]
  },
  {
   "cell_type": "code",
   "execution_count": 23,
   "metadata": {},
   "outputs": [
    {
     "data": {
      "text/latex": [
       "$\\displaystyle x^{2} + x y$"
      ],
      "text/plain": [
       "x**2 + x*y"
      ]
     },
     "execution_count": 23,
     "metadata": {},
     "output_type": "execute_result"
    }
   ],
   "source": [
    "from sympy import expand, factor\n",
    "expanded_expr = expand(x*expr)\n",
    "expanded_expr"
   ]
  },
  {
   "cell_type": "code",
   "execution_count": 25,
   "metadata": {},
   "outputs": [
    {
     "data": {
      "text/latex": [
       "$\\displaystyle x \\left(x + y\\right)$"
      ],
      "text/plain": [
       "x*(x + y)"
      ]
     },
     "execution_count": 25,
     "metadata": {},
     "output_type": "execute_result"
    }
   ],
   "source": [
    "factored_expr = factor(expanded_expr)\n",
    "factored_expr"
   ]
  },
  {
   "cell_type": "markdown",
   "metadata": {},
   "source": [
    "### Integration and differentiation"
   ]
  },
  {
   "cell_type": "code",
   "execution_count": 28,
   "metadata": {},
   "outputs": [
    {
     "data": {
      "text/latex": [
       "$\\displaystyle e^{x} \\sin{\\left(x \\right)} + e^{x} \\cos{\\left(x \\right)}$"
      ],
      "text/plain": [
       "exp(x)*sin(x) + exp(x)*cos(x)"
      ]
     },
     "execution_count": 28,
     "metadata": {},
     "output_type": "execute_result"
    }
   ],
   "source": [
    "diff(sin(x)*exp(x), x)"
   ]
  },
  {
   "cell_type": "code",
   "execution_count": 30,
   "metadata": {},
   "outputs": [
    {
     "data": {
      "text/latex": [
       "$\\displaystyle e^{x} \\sin{\\left(x \\right)}$"
      ],
      "text/plain": [
       "exp(x)*sin(x)"
      ]
     },
     "execution_count": 30,
     "metadata": {},
     "output_type": "execute_result"
    }
   ],
   "source": [
    "integrate(exp(x)*sin(x) + exp(x)*cos(x), x)"
   ]
  },
  {
   "cell_type": "code",
   "execution_count": null,
   "metadata": {},
   "outputs": [],
   "source": []
  }
 ],
 "metadata": {
  "kernelspec": {
   "display_name": "Python 3",
   "language": "python",
   "name": "python3"
  },
  "language_info": {
   "codemirror_mode": {
    "name": "ipython",
    "version": 3
   },
   "file_extension": ".py",
   "mimetype": "text/x-python",
   "name": "python",
   "nbconvert_exporter": "python",
   "pygments_lexer": "ipython3",
   "version": "3.7.6"
  }
 },
 "nbformat": 4,
 "nbformat_minor": 4
}
