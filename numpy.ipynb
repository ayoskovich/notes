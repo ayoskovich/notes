{
 "cells": [
  {
   "cell_type": "markdown",
   "metadata": {},
   "source": [
    "## Notes on numpy"
   ]
  },
  {
   "cell_type": "code",
   "execution_count": 17,
   "metadata": {},
   "outputs": [
    {
     "data": {
      "text/plain": [
       "'1.18.1'"
      ]
     },
     "execution_count": 17,
     "metadata": {},
     "output_type": "execute_result"
    }
   ],
   "source": [
    "import numpy as np\n",
    "import matplotlib.pyplot as plt\n",
    "np.__version__"
   ]
  },
  {
   "cell_type": "code",
   "execution_count": 61,
   "metadata": {},
   "outputs": [],
   "source": [
    "A = np.arange(6).reshape(3, 2)\n",
    "\n",
    "x = np.array([2, 4]).reshape(2, 1)"
   ]
  },
  {
   "cell_type": "code",
   "execution_count": 63,
   "metadata": {},
   "outputs": [
    {
     "data": {
      "text/plain": [
       "array([[2],\n",
       "       [4]])"
      ]
     },
     "execution_count": 63,
     "metadata": {},
     "output_type": "execute_result"
    }
   ],
   "source": [
    "x"
   ]
  },
  {
   "cell_type": "code",
   "execution_count": 65,
   "metadata": {},
   "outputs": [
    {
     "data": {
      "text/plain": [
       "array([[ 4],\n",
       "       [16],\n",
       "       [28]])"
      ]
     },
     "execution_count": 65,
     "metadata": {},
     "output_type": "execute_result"
    }
   ],
   "source": [
    "A@x"
   ]
  },
  {
   "cell_type": "code",
   "execution_count": 66,
   "metadata": {},
   "outputs": [
    {
     "data": {
      "text/plain": [
       "array([[ 4],\n",
       "       [16],\n",
       "       [28]])"
      ]
     },
     "execution_count": 66,
     "metadata": {},
     "output_type": "execute_result"
    }
   ],
   "source": [
    "A.dot(x)"
   ]
  },
  {
   "cell_type": "code",
   "execution_count": 37,
   "metadata": {},
   "outputs": [
    {
     "data": {
      "text/plain": [
       "array([[0., 0., 0.],\n",
       "       [0., 0., 0.],\n",
       "       [0., 0., 0.]])"
      ]
     },
     "execution_count": 37,
     "metadata": {},
     "output_type": "execute_result"
    }
   ],
   "source": [
    "np.zeros((3, 3))"
   ]
  },
  {
   "cell_type": "code",
   "execution_count": 33,
   "metadata": {},
   "outputs": [
    {
     "data": {
      "text/plain": [
       "10"
      ]
     },
     "execution_count": 33,
     "metadata": {},
     "output_type": "execute_result"
    }
   ],
   "source": [
    "x.size"
   ]
  },
  {
   "cell_type": "markdown",
   "metadata": {},
   "source": [
    "## Rotating a matrix"
   ]
  },
  {
   "cell_type": "code",
   "execution_count": 14,
   "metadata": {},
   "outputs": [],
   "source": [
    "def rotate(deg, vector):\n",
    "    \"\"\" Rotate vector by a specific amount of degrees\n",
    "        in the anti-clockwise direction. \"\"\"\n",
    "    theta = np.radians(deg)\n",
    "    c, s = np.cos(theta), np.sin(theta)\n",
    "    R = np.array(((c, -s), (s, c)))\n",
    "    \n",
    "    return R.dot(vector)\n",
    "    "
   ]
  },
  {
   "cell_type": "code",
   "execution_count": 15,
   "metadata": {},
   "outputs": [
    {
     "data": {
      "text/plain": [
       "array([[ 0.8660254, -0.5      ],\n",
       "       [ 0.5      ,  0.8660254]])"
      ]
     },
     "execution_count": 15,
     "metadata": {},
     "output_type": "execute_result"
    }
   ],
   "source": [
    "R"
   ]
  },
  {
   "cell_type": "code",
   "execution_count": 16,
   "metadata": {},
   "outputs": [
    {
     "data": {
      "text/plain": [
       "array([-1.,  1.])"
      ]
     },
     "execution_count": 16,
     "metadata": {},
     "output_type": "execute_result"
    }
   ],
   "source": [
    "rotate(90, np.array([1, 1]))"
   ]
  },
  {
   "cell_type": "code",
   "execution_count": 11,
   "metadata": {},
   "outputs": [
    {
     "data": {
      "text/plain": [
       "array([-0.1339746 ,  2.23205081])"
      ]
     },
     "execution_count": 11,
     "metadata": {},
     "output_type": "execute_result"
    }
   ],
   "source": [
    "R.dot(np.array([1, 2]))"
   ]
  },
  {
   "cell_type": "code",
   "execution_count": 19,
   "metadata": {},
   "outputs": [
    {
     "name": "stdout",
     "output_type": "stream",
     "text": [
      "Help on method arrow in module matplotlib.axes._axes:\n",
      "\n",
      "arrow(x, y, dx, dy, **kwargs) method of matplotlib.axes._subplots.AxesSubplot instance\n",
      "    Add an arrow to the axes.\n",
      "    \n",
      "    This draws an arrow from ``(x, y)`` to ``(x+dx, y+dy)``.\n",
      "    \n",
      "    Parameters\n",
      "    ----------\n",
      "    x, y : float\n",
      "        The x and y coordinates of the arrow base.\n",
      "    dx, dy : float\n",
      "        The length of the arrow along x and y direction.\n",
      "    \n",
      "    Returns\n",
      "    -------\n",
      "    arrow : `.FancyArrow`\n",
      "        The created `.FancyArrow` object.\n",
      "    \n",
      "    Other Parameters\n",
      "    ----------------\n",
      "    **kwargs\n",
      "        Optional kwargs (inherited from `.FancyArrow` patch) control the\n",
      "        arrow construction and properties:\n",
      "    \n",
      "    Constructor arguments\n",
      "      *width*: float (default: 0.001)\n",
      "        width of full arrow tail\n",
      "    \n",
      "      *length_includes_head*: bool (default: False)\n",
      "        True if head is to be counted in calculating the length.\n",
      "    \n",
      "      *head_width*: float or None (default: 3*width)\n",
      "        total width of the full arrow head\n",
      "    \n",
      "      *head_length*: float or None (default: 1.5 * head_width)\n",
      "        length of arrow head\n",
      "    \n",
      "      *shape*: ['full', 'left', 'right'] (default: 'full')\n",
      "        draw the left-half, right-half, or full arrow\n",
      "    \n",
      "      *overhang*: float (default: 0)\n",
      "        fraction that the arrow is swept back (0 overhang means\n",
      "        triangular shape). Can be negative or greater than one.\n",
      "    \n",
      "      *head_starts_at_zero*: bool (default: False)\n",
      "        if True, the head starts being drawn at coordinate 0\n",
      "        instead of ending at coordinate 0.\n",
      "    \n",
      "    Other valid kwargs (inherited from :class:`Patch`) are:\n",
      "      agg_filter: a filter function, which takes a (m, n, 3) float array and a dpi value, and returns a (m, n, 3) array\n",
      "      alpha: float or None\n",
      "      animated: bool\n",
      "      antialiased or aa: unknown\n",
      "      capstyle: {'butt', 'round', 'projecting'}\n",
      "      clip_box: `.Bbox`\n",
      "      clip_on: bool\n",
      "      clip_path: [(`~matplotlib.path.Path`, `.Transform`) | `.Patch` | None]\n",
      "      color: color\n",
      "      contains: callable\n",
      "      edgecolor or ec: color or None or 'auto'\n",
      "      facecolor or fc: color or None\n",
      "      figure: `.Figure`\n",
      "      fill: bool\n",
      "      gid: str\n",
      "      hatch: {'/', '\\\\', '|', '-', '+', 'x', 'o', 'O', '.', '*'}\n",
      "      in_layout: bool\n",
      "      joinstyle: {'miter', 'round', 'bevel'}\n",
      "      label: object\n",
      "      linestyle or ls: {'-', '--', '-.', ':', '', (offset, on-off-seq), ...}\n",
      "      linewidth or lw: float or None\n",
      "      path_effects: `.AbstractPathEffect`\n",
      "      picker: None or bool or float or callable\n",
      "      rasterized: bool or None\n",
      "      sketch_params: (scale: float, length: float, randomness: float)\n",
      "      snap: bool or None\n",
      "      transform: `.Transform`\n",
      "      url: str\n",
      "      visible: bool\n",
      "      zorder: float\n",
      "    \n",
      "    Notes\n",
      "    -----\n",
      "    The resulting arrow is affected by the axes aspect ratio and limits.\n",
      "    This may produce an arrow whose head is not square with its stem. To\n",
      "    create an arrow whose head is square with its stem,\n",
      "    use :meth:`annotate` for example:\n",
      "    \n",
      "    >>> ax.annotate(\"\", xy=(0.5, 0.5), xytext=(0, 0),\n",
      "    ...             arrowprops=dict(arrowstyle=\"->\"))\n",
      "\n"
     ]
    }
   ],
   "source": [
    "help(ax.arrow)"
   ]
  },
  {
   "cell_type": "code",
   "execution_count": 22,
   "metadata": {},
   "outputs": [
    {
     "data": {
      "text/plain": [
       "Text(0.5, 1.0, 'How to plot a vector in matplotlib ?')"
      ]
     },
     "execution_count": 22,
     "metadata": {},
     "output_type": "execute_result"
    },
    {
     "data": {
      "image/png": "[encoded data removed]",
      "text/plain": [
       "<Figure size 432x288 with 1 Axes>"
      ]
     },
     "metadata": {
      "needs_background": "light"
     },
     "output_type": "display_data"
    }
   ],
   "source": [
    "ax = plt.axes()\n",
    "\n",
    "ax.arrow(2.0, 4.0, 6.0, 4.0, head_width=0.5, head_length=0.7, fc='lightblue', ec='black')\n",
    "\n",
    "plt.grid()\n",
    "\n",
    "plt.xlim(0,10)\n",
    "plt.ylim(0,10)\n",
    "\n",
    "plt.title('How to plot a vector in matplotlib ?',fontsize=10)"
   ]
  },
  {
   "cell_type": "code",
   "execution_count": 25,
   "metadata": {},
   "outputs": [
    {
     "data": {
      "text/plain": [
       "4"
      ]
     },
     "execution_count": 25,
     "metadata": {},
     "output_type": "execute_result"
    }
   ],
   "source": [
    "np.array([2, 4])[1]"
   ]
  },
  {
   "cell_type": "code",
   "execution_count": 52,
   "metadata": {},
   "outputs": [
    {
     "data": {
      "text/plain": [
       "matplotlib.axes._subplots.AxesSubplot"
      ]
     },
     "execution_count": 52,
     "metadata": {},
     "output_type": "execute_result"
    },
    {
     "data": {
      "image/png": "[encoded data removed]",
      "text/plain": [
       "<Figure size 432x288 with 1 Axes>"
      ]
     },
     "metadata": {
      "needs_background": "light"
     },
     "output_type": "display_data"
    }
   ],
   "source": [
    "type(plt.axes())"
   ]
  },
  {
   "cell_type": "code",
   "execution_count": 75,
   "metadata": {},
   "outputs": [],
   "source": [
    "lVectors = [np.array([1, 2]),\n",
    "            np.array([3, 1])]"
   ]
  },
  {
   "cell_type": "code",
   "execution_count": 76,
   "metadata": {},
   "outputs": [
    {
     "data": {
      "text/plain": [
       "[array([1, 2]), array([3, 1])]"
      ]
     },
     "execution_count": 76,
     "metadata": {},
     "output_type": "execute_result"
    }
   ],
   "source": [
    "lVectors"
   ]
  },
  {
   "cell_type": "code",
   "execution_count": null,
   "metadata": {},
   "outputs": [],
   "source": [
    "for vect in lVectors:\n",
    "    x, y = vect[0], vect[1]\n",
    "    \n",
    "    ax"
   ]
  },
  {
   "cell_type": "code",
   "execution_count": 84,
   "metadata": {},
   "outputs": [
    {
     "ename": "TypeError",
     "evalue": "'Text' object is not callable",
     "output_type": "error",
     "traceback": [
      "\u001b[1;31m---------------------------------------------------------------------------\u001b[0m",
      "\u001b[1;31mTypeError\u001b[0m                                 Traceback (most recent call last)",
      "\u001b[1;32m<ipython-input-84-6b2b86947c8f>\u001b[0m in \u001b[0;36m<module>\u001b[1;34m\u001b[0m\n\u001b[0;32m     28\u001b[0m \u001b[1;33m\u001b[0m\u001b[0m\n\u001b[0;32m     29\u001b[0m \u001b[1;33m\u001b[0m\u001b[0m\n\u001b[1;32m---> 30\u001b[1;33m \u001b[0max\u001b[0m\u001b[1;33m.\u001b[0m\u001b[0mtitle\u001b[0m\u001b[1;33m(\u001b[0m\u001b[1;34m\"hello\"\u001b[0m\u001b[1;33m)\u001b[0m\u001b[1;33m\u001b[0m\u001b[1;33m\u001b[0m\u001b[0m\n\u001b[0m\u001b[0;32m     31\u001b[0m plotVect([np.array([3, 4]), \n\u001b[0;32m     32\u001b[0m           \u001b[0mnp\u001b[0m\u001b[1;33m.\u001b[0m\u001b[0marray\u001b[0m\u001b[1;33m(\u001b[0m\u001b[1;33m[\u001b[0m\u001b[1;36m1\u001b[0m\u001b[1;33m,\u001b[0m \u001b[1;36m1\u001b[0m\u001b[1;33m]\u001b[0m\u001b[1;33m)\u001b[0m\u001b[1;33m,\u001b[0m\u001b[1;33m\u001b[0m\u001b[1;33m\u001b[0m\u001b[0m\n",
      "\u001b[1;31mTypeError\u001b[0m: 'Text' object is not callable"
     ]
    }
   ],
   "source": [
    "def plotVect(list_vect, xlow, xhigh, ylow, yhigh, startx=0, starty=0):\n",
    "    \"\"\" Plot a vector using matplotlib.\n",
    "        Starting at the origin. \n",
    "        \n",
    "    list_vect (list): list of np.arrays\n",
    "    xlow, xhigh, ylow, yhigh (int): lower and upper bound for x,y plotting\n",
    "    startx, starty (int): base of vectors to draw from\n",
    "    \"\"\"\n",
    "    ax = plt.axes()\n",
    "    \n",
    "    colors = ['red', 'blue', 'green', 'yellow', 'orange']\n",
    "    \n",
    "    for i, vect in enumerate(list_vect):\n",
    "        x, y = vect[0], vect[1]\n",
    "\n",
    "        ax.arrow(startx, starty, \n",
    "                 x, y, \n",
    "                 head_width=0.2, \n",
    "                 head_length=0.2, \n",
    "                 facecolor=colors[i], \n",
    "                 edgecolor=colors[i],\n",
    "                 length_includes_head=True)\n",
    "    \n",
    "    ax.axhline(y=0, color='black')\n",
    "    ax.axvline(x=0, color='black')\n",
    "    \n",
    "    plt.grid()\n",
    "    \n",
    "    plt.xlim(xlow, xhigh)\n",
    "    plt.ylim(ylow, yhigh)\n",
    "\n",
    "    return ax\n",
    "    \n",
    "    \n",
    "plotVect([np.array([3, 4]), \n",
    "          np.array([1, 1]),\n",
    "          np.array([1, 2])],\n",
    "         -1, 5,\n",
    "         -1, 5);"
   ]
  },
  {
   "cell_type": "code",
   "execution_count": null,
   "metadata": {},
   "outputs": [],
   "source": []
  }
 ],
 "metadata": {
  "kernelspec": {
   "display_name": "Python 3",
   "language": "python",
   "name": "python3"
  },
  "language_info": {
   "codemirror_mode": {
    "name": "ipython",
    "version": 3
   },
   "file_extension": ".py",
   "mimetype": "text/x-python",
   "name": "python",
   "nbconvert_exporter": "python",
   "pygments_lexer": "ipython3",
   "version": "3.7.6"
  }
 },
 "nbformat": 4,
 "nbformat_minor": 4
}
