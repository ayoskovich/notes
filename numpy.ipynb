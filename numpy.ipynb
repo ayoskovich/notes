{
 "cells": [
  {
   "cell_type": "markdown",
   "metadata": {},
   "source": [
    "## Notes on numpy"
   ]
  },
  {
   "cell_type": "code",
   "execution_count": 112,
   "metadata": {},
   "outputs": [
    {
     "data": {
      "text/plain": [
       "'1.18.1'"
      ]
     },
     "execution_count": 112,
     "metadata": {},
     "output_type": "execute_result"
    }
   ],
   "source": [
    "import numpy as np\n",
    "import matplotlib.pyplot as plt\n",
    "from matplotlib.figure import Figure\n",
    "np.__version__"
   ]
  },
  {
   "cell_type": "code",
   "execution_count": 61,
   "metadata": {},
   "outputs": [],
   "source": [
    "A = np.arange(6).reshape(3, 2)\n",
    "\n",
    "x = np.array([2, 4]).reshape(2, 1)"
   ]
  },
  {
   "cell_type": "code",
   "execution_count": 63,
   "metadata": {},
   "outputs": [
    {
     "data": {
      "text/plain": [
       "array([[2],\n",
       "       [4]])"
      ]
     },
     "execution_count": 63,
     "metadata": {},
     "output_type": "execute_result"
    }
   ],
   "source": [
    "x"
   ]
  },
  {
   "cell_type": "code",
   "execution_count": 65,
   "metadata": {},
   "outputs": [
    {
     "data": {
      "text/plain": [
       "array([[ 4],\n",
       "       [16],\n",
       "       [28]])"
      ]
     },
     "execution_count": 65,
     "metadata": {},
     "output_type": "execute_result"
    }
   ],
   "source": [
    "A@x"
   ]
  },
  {
   "cell_type": "code",
   "execution_count": 66,
   "metadata": {},
   "outputs": [
    {
     "data": {
      "text/plain": [
       "array([[ 4],\n",
       "       [16],\n",
       "       [28]])"
      ]
     },
     "execution_count": 66,
     "metadata": {},
     "output_type": "execute_result"
    }
   ],
   "source": [
    "A.dot(x)"
   ]
  },
  {
   "cell_type": "code",
   "execution_count": 37,
   "metadata": {},
   "outputs": [
    {
     "data": {
      "text/plain": [
       "array([[0., 0., 0.],\n",
       "       [0., 0., 0.],\n",
       "       [0., 0., 0.]])"
      ]
     },
     "execution_count": 37,
     "metadata": {},
     "output_type": "execute_result"
    }
   ],
   "source": [
    "np.zeros((3, 3))"
   ]
  },
  {
   "cell_type": "code",
   "execution_count": 33,
   "metadata": {},
   "outputs": [
    {
     "data": {
      "text/plain": [
       "10"
      ]
     },
     "execution_count": 33,
     "metadata": {},
     "output_type": "execute_result"
    }
   ],
   "source": [
    "x.size"
   ]
  },
  {
   "cell_type": "markdown",
   "metadata": {},
   "source": [
    "## Rotating a matrix"
   ]
  },
  {
   "cell_type": "code",
   "execution_count": 280,
   "metadata": {},
   "outputs": [],
   "source": [
    "def rotate(deg, vector):\n",
    "    \"\"\" Rotate vector by a specific amount of degrees\n",
    "        in the anti-clockwise direction. \"\"\"\n",
    "    theta = np.radians(deg)\n",
    "    c, s = np.cos(theta), np.sin(theta)\n",
    "    R = np.array(((c, -s), (s, c)))\n",
    "    \n",
    "    return R.dot(vector)"
   ]
  },
  {
   "cell_type": "code",
   "execution_count": 288,
   "metadata": {},
   "outputs": [],
   "source": [
    "def getCol(arr, stop):\n",
    "    \"\"\" Generator for getting vectors out of matrix. \"\"\"\n",
    "    i = 0\n",
    "    while i < stop:\n",
    "        yield arr[:,i]\n",
    "        i +=1\n",
    "\n",
    "def plotVect(vects, xbounds, ybounds, startx=0, starty=0, \n",
    "             title='Vectors', size=(5, 5)):\n",
    "    \"\"\" \n",
    "    Plot a vector using matplotlib\n",
    "\n",
    "    vects (dictionary or list): \n",
    "        if dictionary: {description (string), vector (np.array)}\n",
    "        if list: [np.array(), np.array()]\n",
    "        \n",
    "    xbounds (tuple): lower and upper bound for x axis\n",
    "    ybounds (tuple): lower and upper bound for y axis\n",
    "    startx, starty (int): base of vectors to draw from\n",
    "    title (string): Title of the plot\n",
    "    size (tuple): width, height of plot. \n",
    "    \"\"\"\n",
    "    ax = plt.axes()\n",
    "    plt.rcParams[\"figure.figsize\"] = size\n",
    "    \n",
    "    colors = ['red', 'blue', 'green', 'orange', 'yellow']\n",
    "    \n",
    "    ax.axhline(y=0, color='black', zorder=1)\n",
    "    ax.axvline(x=0, color='black')\n",
    "    \n",
    "    i = 0\n",
    " \n",
    "    if isinstance(vects, dict):\n",
    "        for descr, vect in vects.items():\n",
    "            x, y = vect[0], vect[1]\n",
    "            \n",
    "            ax.arrow(startx, starty, \n",
    "                     x, y, \n",
    "                     head_width=0.2, \n",
    "                     head_length=0.2, \n",
    "                     facecolor=colors[i], \n",
    "                     edgecolor=colors[i],\n",
    "                     length_includes_head=True,\n",
    "                     zorder = 10+i,\n",
    "                     width=.05)\n",
    "\n",
    "            plt.annotate(descr, xy=(x+.2, y+.2))\n",
    "            i += 1\n",
    "            \n",
    "    if isinstance(vects, list):\n",
    "        for vect in vects:\n",
    "            x, y = vect[0], vect[1]\n",
    "\n",
    "            ax.arrow(startx, starty, \n",
    "                     x, y, \n",
    "                     head_width=0.2, \n",
    "                     head_length=0.2, \n",
    "                     facecolor=colors[i], \n",
    "                     edgecolor=colors[i],\n",
    "                     length_includes_head=True,\n",
    "                     zorder = 10+i,\n",
    "                     width=.05)\n",
    "            i += 1\n",
    "\n",
    "    \n",
    "    \n",
    "    plt.title(title)\n",
    "    plt.grid()\n",
    "    \n",
    "    plt.xlim(xbounds[0], xbounds[1])\n",
    "    plt.ylim(ybounds[0], ybounds[1])\n",
    "    \n",
    "    plt.gca().set_aspect('equal', adjustable='box')  # Equal scales on axes\n",
    "    \n",
    "    return ax"
   ]
  },
  {
   "cell_type": "code",
   "execution_count": 289,
   "metadata": {},
   "outputs": [
    {
     "data": {
      "image/png": "[encoded data removed]",
      "text/plain": [
       "<Figure size 360x360 with 1 Axes>"
      ]
     },
     "metadata": {
      "needs_background": "light"
     },
     "output_type": "display_data"
    }
   ],
   "source": [
    "before = np.array([1, 0])\n",
    "after = rotate(90, before)\n",
    "\n",
    "plotVect({'before transformation':before,\n",
    "          'after transformation':after},\n",
    "         xbounds=(-1, 5),\n",
    "         ybounds=(-1, 5),\n",
    "         title='Vector Transformations');"
   ]
  },
  {
   "cell_type": "code",
   "execution_count": 290,
   "metadata": {},
   "outputs": [
    {
     "data": {
      "image/png": "[encoded data removed]",
      "text/plain": [
       "<Figure size 360x360 with 1 Axes>"
      ]
     },
     "metadata": {
      "needs_background": "light"
     },
     "output_type": "display_data"
    }
   ],
   "source": [
    "plotVect([np.array([1, 2]), np.array([2, 2])],\n",
    "         xbounds=(-1, 5),\n",
    "         ybounds=(-1, 5),\n",
    "         title='Vector Transformations');"
   ]
  },
  {
   "cell_type": "code",
   "execution_count": 284,
   "metadata": {},
   "outputs": [
    {
     "data": {
      "image/png": "[encoded data removed]",
      "text/plain": [
       "<Figure size 360x360 with 1 Axes>"
      ]
     },
     "metadata": {
      "needs_background": "light"
     },
     "output_type": "display_data"
    }
   ],
   "source": [
    "x = np.array([1, 3, 2, 1,\n",
    "              0, 4, 2, 1]).reshape(2, 4)\n",
    "\n",
    "\n",
    "plotVect([z for z in getCol(x, x.shape[1])],\n",
    "         xbounds=(-1, 5),\n",
    "         ybounds=(-1, 5),\n",
    "         title='Vector Transformations');"
   ]
  },
  {
   "cell_type": "code",
   "execution_count": 286,
   "metadata": {},
   "outputs": [
    {
     "data": {
      "text/plain": [
       "[array([6.123234e-17, 1.000000e+00]),\n",
       " array([-4.,  3.]),\n",
       " array([-2.,  2.]),\n",
       " array([-1.,  1.])]"
      ]
     },
     "execution_count": 286,
     "metadata": {},
     "output_type": "execute_result"
    }
   ],
   "source": [
    "[rotate(90, z) for z in getCol(x, x.shape[1])]"
   ]
  },
  {
   "cell_type": "code",
   "execution_count": 287,
   "metadata": {},
   "outputs": [
    {
     "ename": "IndexError",
     "evalue": "list index out of range",
     "output_type": "error",
     "traceback": [
      "\u001b[1;31m---------------------------------------------------------------------------\u001b[0m",
      "\u001b[1;31mIndexError\u001b[0m                                Traceback (most recent call last)",
      "\u001b[1;32m<ipython-input-287-467077c18f66>\u001b[0m in \u001b[0;36m<module>\u001b[1;34m\u001b[0m\n\u001b[0;32m      3\u001b[0m          \u001b[0mxbounds\u001b[0m\u001b[1;33m=\u001b[0m\u001b[1;33m(\u001b[0m\u001b[1;33m-\u001b[0m\u001b[1;36m10\u001b[0m\u001b[1;33m,\u001b[0m \u001b[1;36m10\u001b[0m\u001b[1;33m)\u001b[0m\u001b[1;33m,\u001b[0m\u001b[1;33m\u001b[0m\u001b[1;33m\u001b[0m\u001b[0m\n\u001b[0;32m      4\u001b[0m          \u001b[0mybounds\u001b[0m\u001b[1;33m=\u001b[0m\u001b[1;33m(\u001b[0m\u001b[1;33m-\u001b[0m\u001b[1;36m10\u001b[0m\u001b[1;33m,\u001b[0m \u001b[1;36m10\u001b[0m\u001b[1;33m)\u001b[0m\u001b[1;33m,\u001b[0m\u001b[1;33m\u001b[0m\u001b[1;33m\u001b[0m\u001b[0m\n\u001b[1;32m----> 5\u001b[1;33m          title='Vector Transformations');\n\u001b[0m",
      "\u001b[1;32m<ipython-input-281-c2b791f77910>\u001b[0m in \u001b[0;36mplotVect\u001b[1;34m(vects, xbounds, ybounds, startx, starty, title, size)\u001b[0m\n\u001b[0;32m     55\u001b[0m                      \u001b[0mhead_width\u001b[0m\u001b[1;33m=\u001b[0m\u001b[1;36m0.2\u001b[0m\u001b[1;33m,\u001b[0m\u001b[1;33m\u001b[0m\u001b[1;33m\u001b[0m\u001b[0m\n\u001b[0;32m     56\u001b[0m                      \u001b[0mhead_length\u001b[0m\u001b[1;33m=\u001b[0m\u001b[1;36m0.2\u001b[0m\u001b[1;33m,\u001b[0m\u001b[1;33m\u001b[0m\u001b[1;33m\u001b[0m\u001b[0m\n\u001b[1;32m---> 57\u001b[1;33m                      \u001b[0mfacecolor\u001b[0m\u001b[1;33m=\u001b[0m\u001b[0mcolors\u001b[0m\u001b[1;33m[\u001b[0m\u001b[0mi\u001b[0m\u001b[1;33m]\u001b[0m\u001b[1;33m,\u001b[0m\u001b[1;33m\u001b[0m\u001b[1;33m\u001b[0m\u001b[0m\n\u001b[0m\u001b[0;32m     58\u001b[0m                      \u001b[0medgecolor\u001b[0m\u001b[1;33m=\u001b[0m\u001b[0mcolors\u001b[0m\u001b[1;33m[\u001b[0m\u001b[0mi\u001b[0m\u001b[1;33m]\u001b[0m\u001b[1;33m,\u001b[0m\u001b[1;33m\u001b[0m\u001b[1;33m\u001b[0m\u001b[0m\n\u001b[0;32m     59\u001b[0m                      \u001b[0mlength_includes_head\u001b[0m\u001b[1;33m=\u001b[0m\u001b[1;32mTrue\u001b[0m\u001b[1;33m,\u001b[0m\u001b[1;33m\u001b[0m\u001b[1;33m\u001b[0m\u001b[0m\n",
      "\u001b[1;31mIndexError\u001b[0m: list index out of range"
     ]
    },
    {
     "data": {
      "image/png": "[encoded data removed]",
      "text/plain": [
       "<Figure size 360x360 with 1 Axes>"
      ]
     },
     "metadata": {
      "needs_background": "light"
     },
     "output_type": "display_data"
    }
   ],
   "source": [
    "plotVect([z for z in getCol(x, x.shape[1])]+\n",
    "         [rotate(90, z) for z in getCol(x, x.shape[1])],\n",
    "         xbounds=(-10, 10),\n",
    "         ybounds=(-10, 10),\n",
    "         title='Vector Transformations');"
   ]
  },
  {
   "cell_type": "code",
   "execution_count": null,
   "metadata": {},
   "outputs": [],
   "source": []
  }
 ],
 "metadata": {
  "kernelspec": {
   "display_name": "Python 3",
   "language": "python",
   "name": "python3"
  },
  "language_info": {
   "codemirror_mode": {
    "name": "ipython",
    "version": 3
   },
   "file_extension": ".py",
   "mimetype": "text/x-python",
   "name": "python",
   "nbconvert_exporter": "python",
   "pygments_lexer": "ipython3",
   "version": "3.7.6"
  }
 },
 "nbformat": 4,
 "nbformat_minor": 4
}
