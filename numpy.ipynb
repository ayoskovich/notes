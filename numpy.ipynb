{
 "cells": [
  {
   "cell_type": "markdown",
   "metadata": {},
   "source": [
    "## Notes on numpy"
   ]
  },
  {
   "cell_type": "code",
   "execution_count": 112,
   "metadata": {},
   "outputs": [
    {
     "data": {
      "text/plain": [
       "'1.18.1'"
      ]
     },
     "execution_count": 112,
     "metadata": {},
     "output_type": "execute_result"
    }
   ],
   "source": [
    "import numpy as np\n",
    "import matplotlib.pyplot as plt\n",
    "from matplotlib.figure import Figure\n",
    "np.__version__"
   ]
  },
  {
   "cell_type": "code",
   "execution_count": 61,
   "metadata": {},
   "outputs": [],
   "source": [
    "A = np.arange(6).reshape(3, 2)\n",
    "\n",
    "x = np.array([2, 4]).reshape(2, 1)"
   ]
  },
  {
   "cell_type": "code",
   "execution_count": 63,
   "metadata": {},
   "outputs": [
    {
     "data": {
      "text/plain": [
       "array([[2],\n",
       "       [4]])"
      ]
     },
     "execution_count": 63,
     "metadata": {},
     "output_type": "execute_result"
    }
   ],
   "source": [
    "x"
   ]
  },
  {
   "cell_type": "code",
   "execution_count": 65,
   "metadata": {},
   "outputs": [
    {
     "data": {
      "text/plain": [
       "array([[ 4],\n",
       "       [16],\n",
       "       [28]])"
      ]
     },
     "execution_count": 65,
     "metadata": {},
     "output_type": "execute_result"
    }
   ],
   "source": [
    "A@x"
   ]
  },
  {
   "cell_type": "code",
   "execution_count": 66,
   "metadata": {},
   "outputs": [
    {
     "data": {
      "text/plain": [
       "array([[ 4],\n",
       "       [16],\n",
       "       [28]])"
      ]
     },
     "execution_count": 66,
     "metadata": {},
     "output_type": "execute_result"
    }
   ],
   "source": [
    "A.dot(x)"
   ]
  },
  {
   "cell_type": "code",
   "execution_count": 37,
   "metadata": {},
   "outputs": [
    {
     "data": {
      "text/plain": [
       "array([[0., 0., 0.],\n",
       "       [0., 0., 0.],\n",
       "       [0., 0., 0.]])"
      ]
     },
     "execution_count": 37,
     "metadata": {},
     "output_type": "execute_result"
    }
   ],
   "source": [
    "np.zeros((3, 3))"
   ]
  },
  {
   "cell_type": "code",
   "execution_count": 33,
   "metadata": {},
   "outputs": [
    {
     "data": {
      "text/plain": [
       "10"
      ]
     },
     "execution_count": 33,
     "metadata": {},
     "output_type": "execute_result"
    }
   ],
   "source": [
    "x.size"
   ]
  },
  {
   "cell_type": "markdown",
   "metadata": {},
   "source": [
    "## Rotating a matrix"
   ]
  },
  {
   "cell_type": "code",
   "execution_count": 14,
   "metadata": {},
   "outputs": [],
   "source": [
    "def rotate(deg, vector):\n",
    "    \"\"\" Rotate vector by a specific amount of degrees\n",
    "        in the anti-clockwise direction. \"\"\"\n",
    "    theta = np.radians(deg)\n",
    "    c, s = np.cos(theta), np.sin(theta)\n",
    "    R = np.array(((c, -s), (s, c)))\n",
    "    \n",
    "    return R.dot(vector)\n",
    "    "
   ]
  },
  {
   "cell_type": "code",
   "execution_count": 16,
   "metadata": {},
   "outputs": [
    {
     "data": {
      "text/plain": [
       "array([-1.,  1.])"
      ]
     },
     "execution_count": 16,
     "metadata": {},
     "output_type": "execute_result"
    }
   ],
   "source": []
  },
  {
   "cell_type": "code",
   "execution_count": 11,
   "metadata": {},
   "outputs": [
    {
     "data": {
      "text/plain": [
       "array([-0.1339746 ,  2.23205081])"
      ]
     },
     "execution_count": 11,
     "metadata": {},
     "output_type": "execute_result"
    }
   ],
   "source": [
    "R.dot(np.array([1, 2]))"
   ]
  },
  {
   "cell_type": "code",
   "execution_count": 186,
   "metadata": {},
   "outputs": [],
   "source": [
    "df = {'a':1, 'b':2, 'c':3}"
   ]
  },
  {
   "cell_type": "code",
   "execution_count": 195,
   "metadata": {},
   "outputs": [],
   "source": [
    "def plotVect(dict_vect, xbounds, ybounds, startx=0, starty=0, \n",
    "             title='Vectors', size=(5, 5)):\n",
    "    \"\"\" \n",
    "    Plot a vector using matplotlib\n",
    "\n",
    "    dict_vect (dictionary): {description (string), vector (np.array)}\n",
    "    xbounds (tuple): lower and upper bound for x axis\n",
    "    ybounds (tuple): lower and upper bound for y axis\n",
    "    startx, starty (int): base of vectors to draw from\n",
    "    title (string): Title of the plot\n",
    "    size (tuple): width, height of plot. \n",
    "    \"\"\"\n",
    "    ax = plt.axes()\n",
    "    plt.rcParams[\"figure.figsize\"] = size\n",
    "    \n",
    "    colors = ['red', 'blue', 'green', 'yellow', 'orange']\n",
    "    \n",
    "    ax.axhline(y=0, color='black', zorder=1)\n",
    "    ax.axvline(x=0, color='black')\n",
    "    \n",
    "    i = 0\n",
    "    for descr, vect in dict_vect.items():\n",
    "        x, y = vect[0], vect[1]\n",
    "\n",
    "        ax.arrow(startx, starty, \n",
    "                 x, y, \n",
    "                 head_width=0.2, \n",
    "                 head_length=0.2, \n",
    "                 facecolor=colors[i], \n",
    "                 edgecolor=colors[i],\n",
    "                 length_includes_head=True,\n",
    "                 zorder = 10+i,\n",
    "                 width=.05)\n",
    "        \n",
    "        plt.annotate(descr, xy=(x+.2, y+.2))\n",
    "        i += 1\n",
    "\n",
    "    \n",
    "    \n",
    "    plt.title(title)\n",
    "    plt.grid()\n",
    "    \n",
    "    plt.xlim(xbounds[0], xbounds[1])\n",
    "    plt.ylim(ybounds[0], ybounds[1])\n",
    "    \n",
    "    plt.gca().set_aspect('equal', adjustable='box')  # Equal scales on axes\n",
    "    \n",
    "    return ax"
   ]
  },
  {
   "cell_type": "code",
   "execution_count": 197,
   "metadata": {},
   "outputs": [
    {
     "data": {
      "image/png": "[encoded data removed]",
      "text/plain": [
       "<Figure size 360x360 with 1 Axes>"
      ]
     },
     "metadata": {
      "needs_background": "light"
     },
     "output_type": "display_data"
    }
   ],
   "source": [
    "before = np.array([1, 0])\n",
    "after = rotate(90, before)\n",
    "\n",
    "plotVect({'before transformation':before,\n",
    "          'after transformation':after},\n",
    "         xbounds=(-1, 5),\n",
    "         ybounds=(-1, 5),\n",
    "         title='Vector Transformations');"
   ]
  },
  {
   "cell_type": "code",
   "execution_count": null,
   "metadata": {},
   "outputs": [],
   "source": []
  }
 ],
 "metadata": {
  "kernelspec": {
   "display_name": "Python 3",
   "language": "python",
   "name": "python3"
  },
  "language_info": {
   "codemirror_mode": {
    "name": "ipython",
    "version": 3
   },
   "file_extension": ".py",
   "mimetype": "text/x-python",
   "name": "python",
   "nbconvert_exporter": "python",
   "pygments_lexer": "ipython3",
   "version": "3.7.6"
  }
 },
 "nbformat": 4,
 "nbformat_minor": 4
}
