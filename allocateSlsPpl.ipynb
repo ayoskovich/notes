{
 "cells": [
  {
   "cell_type": "code",
   "execution_count": 43,
   "metadata": {},
   "outputs": [],
   "source": [
    "import pandas as pd\n",
    "import numpy as np\n",
    "import allocate\n",
    "\n",
    "import importlib\n",
    "importlib.reload(allocate); \n",
    "\n",
    "SAM_CAP = 20\n",
    "\n",
    "df = pd.DataFrame(columns=['group', 'acct', 'amt'],\n",
    "    data = [\n",
    "    ('a', 'x1', 1),\n",
    "    ('a', 'x2', 3),\n",
    "    ('a', 'x3', 6),\n",
    "    ('a', 'x4', 7),\n",
    "    ('a', 'x5', 1),\n",
    "    ('a', 'x6', 5),\n",
    "    ('a', 'x7', 8),\n",
    "    ('a', 'x8', 17),\n",
    "    ('a', 'x9', 3)\n",
    "    ])\n",
    "\n",
    "df.sort_values(by=['group', 'amt'], \n",
    "               ascending=[True, False],\n",
    "               inplace=True)"
   ]
  },
  {
   "cell_type": "code",
   "execution_count": 37,
   "metadata": {},
   "outputs": [],
   "source": [
    "def iterOne(df):\n",
    "    df['running'] = df.pipe(allocate.calcRun, 'amt')\n",
    "\n",
    "    new, inds = allocate.getAssignments(df, 20)\n",
    "\n",
    "    # save 'new'\n",
    "    nowWorkWith = df.pipe(allocate.dropDone, inds)\n",
    "    \n",
    "    return new, nowWorkWith\n",
    "\n",
    "\n",
    "allAssignments = []\n",
    "for i, x in enumerate(range(10)):\n",
    "    df['running'] = df.pipe(allocate.calcRun, 'amt')\n",
    "\n",
    "    assignment, inds = allocate.getAssignments(df, 20)\n",
    "    \n",
    "    assignment['tag'] = i\n",
    "    \n",
    "    allAssignments.append(assignment)\n",
    "    \n",
    "    # Overwrite df and drop the assignment we just chose\n",
    "    df = df.pipe(allocate.dropDone, inds)"
   ]
  },
  {
   "cell_type": "code",
   "execution_count": 38,
   "metadata": {},
   "outputs": [
    {
     "name": "stdout",
     "output_type": "stream",
     "text": [
      "  group acct  amt  tag\n",
      "7     a   x8   17    0\n",
      "  group acct  amt  tag\n",
      "6     a   x7    8    1\n",
      "3     a   x4    7    1\n",
      "  group acct  amt  tag\n",
      "2     a   x3    6    2\n",
      "5     a   x6    5    2\n",
      "1     a   x2    3    2\n",
      "8     a   x9    3    2\n",
      "0     a   x1    1    2\n",
      "4     a   x5    1    2\n"
     ]
    }
   ],
   "source": [
    "# Print all assignments\n",
    "\n",
    "for frame in allAssignments:\n",
    "    if frame.empty:\n",
    "        break\n",
    "    else:\n",
    "        print(frame)"
   ]
  },
  {
   "cell_type": "markdown",
   "metadata": {},
   "source": [
    "#### Stack all the assignments"
   ]
  },
  {
   "cell_type": "code",
   "execution_count": 39,
   "metadata": {},
   "outputs": [
    {
     "data": {
      "text/html": [
       "<div>\n",
       "<style scoped>\n",
       "    .dataframe tbody tr th:only-of-type {\n",
       "        vertical-align: middle;\n",
       "    }\n",
       "\n",
       "    .dataframe tbody tr th {\n",
       "        vertical-align: top;\n",
       "    }\n",
       "\n",
       "    .dataframe thead th {\n",
       "        text-align: right;\n",
       "    }\n",
       "</style>\n",
       "<table border=\"1\" class=\"dataframe\">\n",
       "  <thead>\n",
       "    <tr style=\"text-align: right;\">\n",
       "      <th></th>\n",
       "      <th>group</th>\n",
       "      <th>acct</th>\n",
       "      <th>amt</th>\n",
       "      <th>tag</th>\n",
       "    </tr>\n",
       "  </thead>\n",
       "  <tbody>\n",
       "    <tr>\n",
       "      <th>7</th>\n",
       "      <td>a</td>\n",
       "      <td>x8</td>\n",
       "      <td>17</td>\n",
       "      <td>0</td>\n",
       "    </tr>\n",
       "    <tr>\n",
       "      <th>6</th>\n",
       "      <td>a</td>\n",
       "      <td>x7</td>\n",
       "      <td>8</td>\n",
       "      <td>1</td>\n",
       "    </tr>\n",
       "    <tr>\n",
       "      <th>3</th>\n",
       "      <td>a</td>\n",
       "      <td>x4</td>\n",
       "      <td>7</td>\n",
       "      <td>1</td>\n",
       "    </tr>\n",
       "    <tr>\n",
       "      <th>2</th>\n",
       "      <td>a</td>\n",
       "      <td>x3</td>\n",
       "      <td>6</td>\n",
       "      <td>2</td>\n",
       "    </tr>\n",
       "    <tr>\n",
       "      <th>5</th>\n",
       "      <td>a</td>\n",
       "      <td>x6</td>\n",
       "      <td>5</td>\n",
       "      <td>2</td>\n",
       "    </tr>\n",
       "    <tr>\n",
       "      <th>1</th>\n",
       "      <td>a</td>\n",
       "      <td>x2</td>\n",
       "      <td>3</td>\n",
       "      <td>2</td>\n",
       "    </tr>\n",
       "    <tr>\n",
       "      <th>8</th>\n",
       "      <td>a</td>\n",
       "      <td>x9</td>\n",
       "      <td>3</td>\n",
       "      <td>2</td>\n",
       "    </tr>\n",
       "    <tr>\n",
       "      <th>0</th>\n",
       "      <td>a</td>\n",
       "      <td>x1</td>\n",
       "      <td>1</td>\n",
       "      <td>2</td>\n",
       "    </tr>\n",
       "    <tr>\n",
       "      <th>4</th>\n",
       "      <td>a</td>\n",
       "      <td>x5</td>\n",
       "      <td>1</td>\n",
       "      <td>2</td>\n",
       "    </tr>\n",
       "  </tbody>\n",
       "</table>\n",
       "</div>"
      ],
      "text/plain": [
       "  group acct  amt  tag\n",
       "7     a   x8   17    0\n",
       "6     a   x7    8    1\n",
       "3     a   x4    7    1\n",
       "2     a   x3    6    2\n",
       "5     a   x6    5    2\n",
       "1     a   x2    3    2\n",
       "8     a   x9    3    2\n",
       "0     a   x1    1    2\n",
       "4     a   x5    1    2"
      ]
     },
     "execution_count": 39,
     "metadata": {},
     "output_type": "execute_result"
    }
   ],
   "source": [
    "pd.concat(allAssignments)"
   ]
  },
  {
   "cell_type": "code",
   "execution_count": null,
   "metadata": {},
   "outputs": [],
   "source": []
  }
 ],
 "metadata": {
  "kernelspec": {
   "display_name": "Python 3",
   "language": "python",
   "name": "python3"
  },
  "language_info": {
   "codemirror_mode": {
    "name": "ipython",
    "version": 3
   },
   "file_extension": ".py",
   "mimetype": "text/x-python",
   "name": "python",
   "nbconvert_exporter": "python",
   "pygments_lexer": "ipython3",
   "version": "3.7.6"
  }
 },
 "nbformat": 4,
 "nbformat_minor": 4
}
