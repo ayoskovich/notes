{
 "cells": [
  {
   "cell_type": "code",
   "execution_count": 1,
   "metadata": {},
   "outputs": [],
   "source": [
    "import pandas as pd\n",
    "import numpy as np\n",
    "import allocate\n",
    "\n",
    "import importlib\n",
    "importlib.reload(allocate); "
   ]
  },
  {
   "cell_type": "code",
   "execution_count": 22,
   "metadata": {},
   "outputs": [],
   "source": [
    "SAM_CAP = 20\n",
    "\n",
    "df = pd.DataFrame([\n",
    "    ('a', 'x1', 1),\n",
    "    ('a', 'x2', 3),\n",
    "    ('a', 'x3', 6),\n",
    "    ('a', 'x4', 7),\n",
    "    ('a', 'x5', 1),\n",
    "    ('a', 'x6', 5),\n",
    "    ('a', 'x7', 8),\n",
    "    ('a', 'x8', 17),\n",
    "    ('a', 'x9', 3)\n",
    "], columns=['group', 'acct', 'amt'])\n",
    "\n",
    "df.sort_values(by=['group', 'amt'], \n",
    "               ascending=[True, False],\n",
    "               inplace=True)"
   ]
  },
  {
   "cell_type": "code",
   "execution_count": 23,
   "metadata": {},
   "outputs": [],
   "source": [
    "def iterOne(df):\n",
    "    df['running'] = df.pipe(allocate.calcRun, 'amt')\n",
    "\n",
    "    new, inds = allocate.getAssignments(df, 20)\n",
    "\n",
    "    # save 'new'\n",
    "    nowWorkWith = df.pipe(allocate.dropDone, inds)\n",
    "    \n",
    "    return new, nowWorkWith"
   ]
  },
  {
   "cell_type": "code",
   "execution_count": 24,
   "metadata": {},
   "outputs": [],
   "source": [
    "allAssignments = []\n",
    "for x in range(3):\n",
    "    df['running'] = df.pipe(allocate.calcRun, 'amt')\n",
    "\n",
    "    assignment, inds = allocate.getAssignments(df, 20)\n",
    "    \n",
    "    allAssignments.append(assignment)\n",
    "    \n",
    "    # Overwrite df and drop the assignment we just chose\n",
    "    df = df.pipe(allocate.dropDone, inds)"
   ]
  },
  {
   "cell_type": "code",
   "execution_count": null,
   "metadata": {},
   "outputs": [],
   "source": []
  }
 ],
 "metadata": {
  "kernelspec": {
   "display_name": "Python 3",
   "language": "python",
   "name": "python3"
  },
  "language_info": {
   "codemirror_mode": {
    "name": "ipython",
    "version": 3
   },
   "file_extension": ".py",
   "mimetype": "text/x-python",
   "name": "python",
   "nbconvert_exporter": "python",
   "pygments_lexer": "ipython3",
   "version": "3.7.6"
  }
 },
 "nbformat": 4,
 "nbformat_minor": 4
}
