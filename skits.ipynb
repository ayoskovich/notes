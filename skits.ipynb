{
 "cells": [
  {
   "cell_type": "code",
   "execution_count": 1,
   "metadata": {},
   "outputs": [],
   "source": [
    "import numpy as np\n",
    "from skits.preprocessing import DifferenceTransformer\n",
    "\n",
    "y = np.random.random(10)\n",
    "# scikit-learn expects 2D design matrices,\n",
    "# so we duplicate the time series.\n",
    "X = y[:, np.newaxis] \n",
    "\n",
    "dt = DifferenceTransformer(period=2)\n",
    "\n",
    "Xt = dt.fit_transform(X,y)\n",
    "X_inv = dt.inverse_transform(Xt)\n",
    "\n",
    "assert np.allclose(X, X_inv)"
   ]
  }
 ],
 "metadata": {
  "kernelspec": {
   "display_name": "Python 3",
   "language": "python",
   "name": "python3"
  },
  "language_info": {
   "codemirror_mode": {
    "name": "ipython",
    "version": 3
   },
   "file_extension": ".py",
   "mimetype": "text/x-python",
   "name": "python",
   "nbconvert_exporter": "python",
   "pygments_lexer": "ipython3",
   "version": "3.7.4"
  }
 },
 "nbformat": 4,
 "nbformat_minor": 4
}
